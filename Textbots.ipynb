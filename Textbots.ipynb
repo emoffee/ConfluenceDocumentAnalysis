{
 "cells": [
  {
   "cell_type": "code",
   "execution_count": 49,
   "metadata": {
    "collapsed": false
   },
   "outputs": [],
   "source": [
    "from textblob import TextBlob\n",
    "sentext=\"Tong is so awesome a Data Emperor. Right?\"\n",
    "wiki=TextBlob(sentext)"
   ]
  },
  {
   "cell_type": "code",
   "execution_count": 51,
   "metadata": {
    "collapsed": false
   },
   "outputs": [
    {
     "name": "stdout",
     "output_type": "stream",
     "text": [
      "1.tags:\n",
      " [('Tong', 'NNP'), ('is', 'VBZ'), ('so', 'RB'), ('awesome', 'JJ'), ('a', 'DT'), ('Data', 'NNP'), ('Emperor', 'NNP'), ('Right', 'NNP')]\n",
      "\n",
      "2.Noun phrases:\n",
      " ['tong', 'data emperor', 'right']\n",
      "\n",
      "3.Words:\n",
      " ['Tong', 'is', 'so', 'awesome', 'a', 'Data', 'Emperor', 'Right']\n",
      "\n",
      "4.Sentences:\n",
      " [Sentence(\"Tong is so awesome a Data Emperor.\"), Sentence(\"Right?\")]\n",
      "\n",
      "5.Sentiment:\n",
      " Sentiment(polarity=0.6428571428571428, subjectivity=0.7678571428571428)\n",
      "\n",
      "6.Count Tong: 1\n"
     ]
    }
   ],
   "source": [
    "print(\"1.tags:\\n\",wiki.tags)\n",
    "print(\"\\n2.Noun phrases:\\n\",wiki.noun_phrases)\n",
    "print(\"\\n3.Words:\\n\",wiki.words)\n",
    "print(\"\\n4.Sentences:\\n\",wiki.sentences)\n",
    "print(\"\\n5.Sentiment:\\n\",wiki.sentiment)\n",
    "print(\"\\n6.Count Tong:\",wiki.words.count('Tong'))"
   ]
  },
  {
   "cell_type": "code",
   "execution_count": 52,
   "metadata": {
    "collapsed": false
   },
   "outputs": [
    {
     "name": "stdout",
     "output_type": "stream",
     "text": [
      "Sentiment(polarity=1.0, subjectivity=1.0)\n",
      "Sentiment(polarity=0.2857142857142857, subjectivity=0.5357142857142857)\n"
     ]
    }
   ],
   "source": [
    "for sentence in wiki.sentences:\n",
    "    print(sentence.sentiment)"
   ]
  },
  {
   "cell_type": "code",
   "execution_count": 54,
   "metadata": {
    "collapsed": false
   },
   "outputs": [
    {
     "name": "stdout",
     "output_type": "stream",
     "text": [
      "Long is so awesome a Data Emperor. Right?\n"
     ]
    }
   ],
   "source": [
    "print(wiki.correct())"
   ]
  },
  {
   "cell_type": "code",
   "execution_count": 58,
   "metadata": {
    "collapsed": false
   },
   "outputs": [
    {
     "data": {
      "text/plain": [
       "'Tong/NNP/B-NP/O is/VBZ/B-VP/O so/RB/B-ADJP/O awesome/JJ/I-ADJP/O a/DT/B-NP/O Data/NNP/I-NP/O Emperor/NNP/I-NP/O ././O/O\\nRight/RB/B-ADVP/O ?/./O/O'"
      ]
     },
     "execution_count": 58,
     "metadata": {},
     "output_type": "execute_result"
    }
   ],
   "source": [
    "wiki.parse()"
   ]
  },
  {
   "cell_type": "code",
   "execution_count": 69,
   "metadata": {
    "collapsed": true
   },
   "outputs": [],
   "source": [
    "from textblob.classifiers import NaiveBayesClassifier\n",
    "train = [\n",
    "     ('I love this sandwich.', 'pos'),\n",
    "     ('this is an amazing place!', 'pos'),\n",
    "     ('I feel very good about these beers.', 'pos'),\n",
    "     ('this is my best work.', 'pos'),\n",
    "     (\"what an awesome view\", 'pos'),\n",
    "     ('I do not like this restaurant', 'neg'),\n",
    "     ('I am tired of this stuff.', 'neg'),\n",
    "     (\"I can't deal with this\", 'neg'),\n",
    "     ('he is my sworn enemy!', 'neg'),\n",
    "     ('my boss is horrible.', 'neg')]\n",
    "test = [\n",
    "     ('the beer was good.', 'pos'),\n",
    "     ('I do not enjoy my job', 'neg'),\n",
    "     (\"I ain't feeling dandy today.\", 'neg'),\n",
    "     (\"I feel amazing!\", 'pos'),\n",
    "     ('Gary is a friend of mine.', 'pos'),\n",
    "     (\"I can't believe I'm doing this.\", 'neg'),\n",
    "     (\"This is not a good choice\",'neg')]\n"
   ]
  },
  {
   "cell_type": "code",
   "execution_count": 70,
   "metadata": {
    "collapsed": true
   },
   "outputs": [],
   "source": [
    "cl=NaiveBayesClassifier(train)"
   ]
  },
  {
   "cell_type": "code",
   "execution_count": 75,
   "metadata": {
    "collapsed": false
   },
   "outputs": [
    {
     "data": {
      "text/plain": [
       "0.8571428571428571"
      ]
     },
     "execution_count": 75,
     "metadata": {},
     "output_type": "execute_result"
    }
   ],
   "source": [
    "cl.classify(\"ahamoment is not an amazing company!\")\n",
    "cl.accuracy(test)"
   ]
  },
  {
   "cell_type": "code",
   "execution_count": 78,
   "metadata": {
    "collapsed": false
   },
   "outputs": [
    {
     "data": {
      "text/plain": [
       "1.0"
      ]
     },
     "execution_count": 78,
     "metadata": {},
     "output_type": "execute_result"
    }
   ],
   "source": [
    "new_data = [('She is not my best friend.', 'neg'),\n",
    "             (\"I'm not happy to have a new friend.\", 'neg'),\n",
    "             (\"Stay thirsty, my enermy.\", 'neg'),\n",
    "             (\"He is not supposed to be from around here.\", 'neg')]\n",
    "cl.update(new_data)\n",
    "cl.accuracy(test)"
   ]
  },
  {
   "cell_type": "code",
   "execution_count": null,
   "metadata": {
    "collapsed": true
   },
   "outputs": [],
   "source": []
  },
  {
   "cell_type": "code",
   "execution_count": null,
   "metadata": {
    "collapsed": true
   },
   "outputs": [],
   "source": []
  }
 ],
 "metadata": {
  "kernelspec": {
   "display_name": "Python 3",
   "language": "python",
   "name": "python3"
  },
  "language_info": {
   "codemirror_mode": {
    "name": "ipython",
    "version": 3
   },
   "file_extension": ".py",
   "mimetype": "text/x-python",
   "name": "python",
   "nbconvert_exporter": "python",
   "pygments_lexer": "ipython3",
   "version": "3.4.3"
  }
 },
 "nbformat": 4,
 "nbformat_minor": 0
}
