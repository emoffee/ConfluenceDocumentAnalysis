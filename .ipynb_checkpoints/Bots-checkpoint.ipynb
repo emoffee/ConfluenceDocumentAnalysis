{
 "cells": [
  {
   "cell_type": "code",
   "execution_count": 1,
   "metadata": {
    "collapsed": true
   },
   "outputs": [],
   "source": [
    "bots=[\"Alice\",\"Nakato\",\"Wattana\",\"Tanika\",\"Talisha\"]\n",
    "\n",
    "def AskAlice(question):\n",
    "    import textblob import TextBlob\n",
    "    question=TextBlob(question)\n",
    "    # Sentences we'll respond with if the user greeted us\n",
    "    GREETING_KEYWORDS = (\"hello\", \"hi\", \"greetings\", \"sup\", \"what's up\",)\n",
    "    GREETING_RESPONSES = [\"'sup bro\", \"hey\", \"*nods*\", \"hey you get my snap?\"]\n",
    "    for word in question.words:\n",
    "        if word.lower() in GREETING_KEYWORDS:\n",
    "            Print(\"You ask Alice: \",question)\n",
    "            return random.choice(GREETING_RESPONSES)"
   ]
  },
  {
   "cell_type": "code",
   "execution_count": 2,
   "metadata": {
    "collapsed": false
   },
   "outputs": [
    {
     "ename": "AttributeError",
     "evalue": "'str' object has no attribute 'words'",
     "output_type": "error",
     "traceback": [
      "\u001b[1;31m---------------------------------------------------------------------------\u001b[0m",
      "\u001b[1;31mAttributeError\u001b[0m                            Traceback (most recent call last)",
      "\u001b[1;32m<ipython-input-2-2df258a3c6ba>\u001b[0m in \u001b[0;36m<module>\u001b[1;34m()\u001b[0m\n\u001b[1;32m----> 1\u001b[1;33m \u001b[0mprint\u001b[0m\u001b[1;33m(\u001b[0m\u001b[0mAskAlice\u001b[0m\u001b[1;33m(\u001b[0m\u001b[1;34m\"sup\"\u001b[0m\u001b[1;33m)\u001b[0m\u001b[1;33m)\u001b[0m\u001b[1;33m\u001b[0m\u001b[0m\n\u001b[0m",
      "\u001b[1;32m<ipython-input-1-2ba631d475f4>\u001b[0m in \u001b[0;36mAskAlice\u001b[1;34m(question)\u001b[0m\n\u001b[0;32m      5\u001b[0m     \u001b[0mGREETING_KEYWORDS\u001b[0m \u001b[1;33m=\u001b[0m \u001b[1;33m(\u001b[0m\u001b[1;34m\"hello\"\u001b[0m\u001b[1;33m,\u001b[0m \u001b[1;34m\"hi\"\u001b[0m\u001b[1;33m,\u001b[0m \u001b[1;34m\"greetings\"\u001b[0m\u001b[1;33m,\u001b[0m \u001b[1;34m\"sup\"\u001b[0m\u001b[1;33m,\u001b[0m \u001b[1;34m\"what's up\"\u001b[0m\u001b[1;33m,\u001b[0m\u001b[1;33m)\u001b[0m\u001b[1;33m\u001b[0m\u001b[0m\n\u001b[0;32m      6\u001b[0m     \u001b[0mGREETING_RESPONSES\u001b[0m \u001b[1;33m=\u001b[0m \u001b[1;33m[\u001b[0m\u001b[1;34m\"'sup bro\"\u001b[0m\u001b[1;33m,\u001b[0m \u001b[1;34m\"hey\"\u001b[0m\u001b[1;33m,\u001b[0m \u001b[1;34m\"*nods*\"\u001b[0m\u001b[1;33m,\u001b[0m \u001b[1;34m\"hey you get my snap?\"\u001b[0m\u001b[1;33m]\u001b[0m\u001b[1;33m\u001b[0m\u001b[0m\n\u001b[1;32m----> 7\u001b[1;33m     \u001b[1;32mfor\u001b[0m \u001b[0mword\u001b[0m \u001b[1;32min\u001b[0m \u001b[0mquestion\u001b[0m\u001b[1;33m.\u001b[0m\u001b[0mwords\u001b[0m\u001b[1;33m:\u001b[0m\u001b[1;33m\u001b[0m\u001b[0m\n\u001b[0m\u001b[0;32m      8\u001b[0m         \u001b[1;32mif\u001b[0m \u001b[0mword\u001b[0m\u001b[1;33m.\u001b[0m\u001b[0mlower\u001b[0m\u001b[1;33m(\u001b[0m\u001b[1;33m)\u001b[0m \u001b[1;32min\u001b[0m \u001b[0mGREETING_KEYWORDS\u001b[0m\u001b[1;33m:\u001b[0m\u001b[1;33m\u001b[0m\u001b[0m\n\u001b[0;32m      9\u001b[0m             \u001b[1;32mreturn\u001b[0m \u001b[0mrandom\u001b[0m\u001b[1;33m.\u001b[0m\u001b[0mchoice\u001b[0m\u001b[1;33m(\u001b[0m\u001b[0mGREETING_RESPONSES\u001b[0m\u001b[1;33m)\u001b[0m\u001b[1;33m\u001b[0m\u001b[0m\n",
      "\u001b[1;31mAttributeError\u001b[0m: 'str' object has no attribute 'words'"
     ]
    }
   ],
   "source": [
    "print(AskAlice(\"sup\"))"
   ]
  },
  {
   "cell_type": "code",
   "execution_count": null,
   "metadata": {
    "collapsed": true
   },
   "outputs": [],
   "source": []
  }
 ],
 "metadata": {
  "kernelspec": {
   "display_name": "Python 3",
   "language": "python",
   "name": "python3"
  },
  "language_info": {
   "codemirror_mode": {
    "name": "ipython",
    "version": 3
   },
   "file_extension": ".py",
   "mimetype": "text/x-python",
   "name": "python",
   "nbconvert_exporter": "python",
   "pygments_lexer": "ipython3",
   "version": "3.4.3"
  }
 },
 "nbformat": 4,
 "nbformat_minor": 0
}
