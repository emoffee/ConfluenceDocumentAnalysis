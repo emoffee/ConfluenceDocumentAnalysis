{
 "cells": [
  {
   "cell_type": "markdown",
   "metadata": {},
   "source": [
    "Summary: 1 tutorial & 1 case study\n",
    "\n",
    "# TextBlob Basics: Play with Texts\n",
    "\n",
    "TextBlob is a Python (2 and 3) library for processing textual data. It provides a simple API for diving into common natural language processing (NLP) tasks such as part-of-speech tagging, noun phrase extraction, sentiment analysis, classification, translation, and more."
   ]
  },
  {
   "cell_type": "code",
   "execution_count": 95,
   "metadata": {
    "collapsed": false
   },
   "outputs": [],
   "source": [
    "from textblob import TextBlob\n",
    "sentext=\"Tong is so awesome a Data Emperor. Right?\"\n",
    "wiki=TextBlob(sentext)\n",
    "print(\"1.tags:\\n\",wiki.tags)\n",
    "print(\"\\n2.Noun phrases:\\n\",wiki.noun_phrases)\n",
    "print(\"\\n3.Words:\\n\",wiki.words)\n",
    "print(\"\\n4.Sentences:\\n\",wiki.sentences)\n",
    "print(\"\\n5.Sentiment:\\n\",wiki.sentiment)\n",
    "print(\"\\n6.Count Tong:\",wiki.words.count('Tong'))"
   ]
  },
  {
   "cell_type": "code",
   "execution_count": 52,
   "metadata": {
    "collapsed": false
   },
   "outputs": [
    {
     "name": "stdout",
     "output_type": "stream",
     "text": [
      "Sentiment(polarity=1.0, subjectivity=1.0)\n",
      "Sentiment(polarity=0.2857142857142857, subjectivity=0.5357142857142857)\n"
     ]
    }
   ],
   "source": [
    "for sentence in wiki.sentences:\n",
    "    print(sentence.sentiment)"
   ]
  },
  {
   "cell_type": "code",
   "execution_count": 54,
   "metadata": {
    "collapsed": false
   },
   "outputs": [
    {
     "name": "stdout",
     "output_type": "stream",
     "text": [
      "Long is so awesome a Data Emperor. Right?\n"
     ]
    }
   ],
   "source": [
    "print(wiki.correct())"
   ]
  },
  {
   "cell_type": "code",
   "execution_count": 58,
   "metadata": {
    "collapsed": false
   },
   "outputs": [
    {
     "data": {
      "text/plain": [
       "'Tong/NNP/B-NP/O is/VBZ/B-VP/O so/RB/B-ADJP/O awesome/JJ/I-ADJP/O a/DT/B-NP/O Data/NNP/I-NP/O Emperor/NNP/I-NP/O ././O/O\\nRight/RB/B-ADVP/O ?/./O/O'"
      ]
     },
     "execution_count": 58,
     "metadata": {},
     "output_type": "execute_result"
    }
   ],
   "source": [
    "wiki.parse()"
   ]
  },
  {
   "cell_type": "markdown",
   "metadata": {},
   "source": [
    "# Case Study: Analyze Michelle's Writing Guide with a Simple Text Classifier"
   ]
  },
  {
   "cell_type": "code",
   "execution_count": 79,
   "metadata": {
    "collapsed": true
   },
   "outputs": [],
   "source": [
    "from textblob.classifiers import NaiveBayesClassifier\n",
    "train = [\n",
    "     ('I love this sandwich.', 'pos'),\n",
    "     ('this is an amazing place!', 'pos'),\n",
    "     ('I feel very good about these beers.', 'pos'),\n",
    "     ('this is my best work.', 'pos'),\n",
    "     (\"what an awesome view\", 'pos'),\n",
    "     ('I do not like this restaurant', 'neg'),\n",
    "     ('I am tired of this stuff.', 'neg'),\n",
    "     (\"I can't deal with this\", 'neg'),\n",
    "     ('he is my sworn enemy!', 'neg'),\n",
    "     ('my boss is horrible.', 'neg')]\n",
    "test = [\n",
    "     ('the beer was good.', 'pos'),\n",
    "     ('I do not enjoy my job', 'neg'),\n",
    "     (\"I ain't feeling dandy today.\", 'neg'),\n",
    "     (\"I feel amazing!\", 'pos'),\n",
    "     ('Gary is a friend of mine.', 'pos'),\n",
    "     (\"I can't believe I'm doing this.\", 'neg'),\n",
    "     (\"This is not a good choice\",'neg')]\n"
   ]
  },
  {
   "cell_type": "code",
   "execution_count": 80,
   "metadata": {
    "collapsed": true
   },
   "outputs": [],
   "source": [
    "cl=NaiveBayesClassifier(train)"
   ]
  },
  {
   "cell_type": "code",
   "execution_count": 81,
   "metadata": {
    "collapsed": false
   },
   "outputs": [
    {
     "data": {
      "text/plain": [
       "0.7142857142857143"
      ]
     },
     "execution_count": 81,
     "metadata": {},
     "output_type": "execute_result"
    }
   ],
   "source": [
    "cl.classify(\"ahamoment is not an amazing company!\")\n",
    "cl.accuracy(test)"
   ]
  },
  {
   "cell_type": "code",
   "execution_count": 82,
   "metadata": {
    "collapsed": false
   },
   "outputs": [
    {
     "data": {
      "text/plain": [
       "0.8571428571428571"
      ]
     },
     "execution_count": 82,
     "metadata": {},
     "output_type": "execute_result"
    }
   ],
   "source": [
    "new_data_1 = [('She is not my best friend.', 'neg'),\n",
    "             (\"I'm not happy to have a new friend.\", 'neg'),\n",
    "             (\"Stay thirsty, my enermy.\", 'neg'),\n",
    "             (\"He is not supposed to be from around here.\", 'neg')]\n",
    "cl.update(new_data_1)\n",
    "cl.accuracy(test)"
   ]
  },
  {
   "cell_type": "code",
   "execution_count": 84,
   "metadata": {
    "collapsed": false
   },
   "outputs": [
    {
     "data": {
      "text/plain": [
       "1.0"
      ]
     },
     "execution_count": 84,
     "metadata": {},
     "output_type": "execute_result"
    }
   ],
   "source": [
    "new_data_2 = [('She is my best friend.', 'pos'),\n",
    "             (\"I'm happy to have a new friend.\", 'pos'),\n",
    "             (\"Stay thirsty, my friend.\", 'pos'),\n",
    "             (\"He loves me, Hehe.\", 'neg')]\n",
    "cl.update(new_data_2)\n",
    "cl.accuracy(test)"
   ]
  },
  {
   "cell_type": "code",
   "execution_count": 99,
   "metadata": {
    "collapsed": false
   },
   "outputs": [
    {
     "name": "stdout",
     "output_type": "stream",
     "text": [
      "\u001b[32mPositive\u001b[0m (subj: 0.0 ): This Guide\n",
      "This guide was compiled to assist TCube Solutions team members when writing company white papers.\n",
      "\u001b[31mNegative\u001b[0m (subj: 0.21875 ): While this guide may offer generalities, white papers do not have a specific, exact format that is appropriate for every situation.\n",
      "\u001b[32mPositive\u001b[0m (subj: 0.47500000000000003 ): Thusly, it is important to use your best judgement, and write a paper for your specific goals.\n",
      "\u001b[32mPositive\u001b[0m (subj: 0.0 ): Definition\n",
      "A White Paper is a catch all term in business.\n",
      "\u001b[32mPositive\u001b[0m (subj: 0.7 ): In general, it is an authoritative report giving information or proposals on an issue.\n",
      "\u001b[32mPositive\u001b[0m (subj: 0.28250000000000003 ): White papers have also been described as:\n",
      "advanced problem solving guides\n",
      "background reports\n",
      "crossbreeds of magazine articles and brochures\n",
      "persuasive essays that use facts/logic to promote a product, service, or viewpoint\n",
      "This broad definition leaves white papers open to interpretation in the business community.\n",
      "\u001b[31mNegative\u001b[0m (subj: 0.34375 ): Anyone can call almost anything a white paper, but that does not mean they should.\n",
      "\u001b[31mNegative\u001b[0m (subj: 0.2888888888888889 ): For your white paper to be effective it must be:\n",
      "a narrative text\n",
      "at least 5-6 pages long in portrait format\n",
      "not a sales pitch\n",
      "intended for use in pre-sales\n",
      "based on facts, not opinions\n",
      "formatted to include an introduction or summary\n",
      "Goals of White Papers\n",
      "A white paper is meant to inform readers concisely about a complex issue and present the issuing body's philosophy on the matter.\n",
      "\u001b[32mPositive\u001b[0m (subj: 0.0 ): White papers are also meant to help readers understand an issue, solve a problem, or make a decision.\n",
      "\u001b[32mPositive\u001b[0m (subj: 0.16666666666666666 ): White papers combine the objective/educational approach of an article and weave in the persuasive corporate messages typical of brochures.\n",
      "\u001b[31mNegative\u001b[0m (subj: 0.2 ): In this way, white papers could influence the decision-making processes of current and prospective customers.\n",
      "\u001b[32mPositive\u001b[0m (subj: 0.05 ): Before Starting a White Paper\n",
      "Decide if the desired finished product is a white paper by asking yourself the following:\n",
      "Will my finished product be a written narrative?\n",
      "\u001b[32mPositive\u001b[0m (subj: 0.0 ): White papers are written reports.\n",
      "\u001b[32mPositive\u001b[0m (subj: 0.0 ): For example, calling a video a white paper is a misnomer.\n",
      "\u001b[31mNegative\u001b[0m (subj: 0.041666666666666664 ): The video may accomplish the same goal as a white paper, but the format in which it is presented disqualifies it from the white paper label.\n",
      "\u001b[31mNegative\u001b[0m (subj: 0.0 ): Will my finished product be of substantial length?\n",
      "\u001b[32mPositive\u001b[0m (subj: 0.34 ): White papers are typically 6-8 pages long, but are at least 5-6 pages long.\n",
      "\u001b[31mNegative\u001b[0m (subj: 0.16666666666666666 ): Anything shorter is generally considered to be lacking the useful information that should be found in a white paper, and may be tossed aside as a sales pitch.\n",
      "\u001b[32mPositive\u001b[0m (subj: 0.3 ): As the purpose of a white paper is generally to inform an audience about a complex issue, if your paper is too short, you may not accomplish this goal.\n",
      "\u001b[31mNegative\u001b[0m (subj: 0.0 ): Will my finished product be used for pre-sales?\n",
      "\u001b[32mPositive\u001b[0m (subj: 0.0 ): In this stage, audiences are looking for information to inform or persuade them.\n",
      "\u001b[31mNegative\u001b[0m (subj: 0.0 ): This is in line with the goals of a white paper.\n",
      "\u001b[31mNegative\u001b[0m (subj: 0.04 ): If you intend your document to be technical support for a product or service, you do not intend to write a white paper, because technical support is needed later in the sales cycle than a white paper is.\n",
      "\u001b[32mPositive\u001b[0m (subj: 0.0 ): Will my finished product provide referenced facts?\n",
      "\u001b[32mPositive\u001b[0m (subj: 0.125 ): White papers are thoroughly researched and provide logical arguments supported by facts and figures.\n",
      "\u001b[31mNegative\u001b[0m (subj: 0.0 ): White papers are not just opinionated rants, or advertisements.\n",
      "\u001b[31mNegative\u001b[0m (subj: 0.26785714285714285 ): Your white paper, if done right, will paint you as a trusted advisor to the audience, not another business peddling their services.\n",
      "\u001b[32mPositive\u001b[0m (subj: 0.65 ): If you answered 'no' to any of these questions, it is likely another form of publication is best for you.\n",
      "\u001b[32mPositive\u001b[0m (subj: 0.2357142857142857 ): White Papers v. Other Publications\n",
      "If in the above section you were unable to determine if a white paper is right for your purposes, this section will compare white papers to other business publications and mention the pros and cons to both.\n",
      "\u001b[32mPositive\u001b[0m (subj: 0.16666666666666666 ): White Papers v. Blogs\n",
      "Blog posts are generally shorter than white papers.\n",
      "\u001b[31mNegative\u001b[0m (subj: 0.75 ): Blog posts can be sheer opinion.\n",
      "\u001b[31mNegative\u001b[0m (subj: 0.0 ): White papers must be based in facts and figures and be thoroughly researched.\n",
      "\u001b[32mPositive\u001b[0m (subj: 0.2 ): Blog posts take an individual several hours to write.\n",
      "\u001b[31mNegative\u001b[0m (subj: 0.0 ): White papers should take a team between 4 to 6 weeks of fulltime effort to write.\n",
      "\u001b[31mNegative\u001b[0m (subj: 0.6333333333333333 ): Blog posts may only be relevant for several months.\n",
      "\u001b[32mPositive\u001b[0m (subj: 0.45 ): White papers can stay relevant for years if done correctly.\n",
      "\u001b[32mPositive\u001b[0m (subj: 0.2416666666666667 ): Blog posts are considered a good place to start to test your ideas and gather feedback while you work on a longer white paper about the same topic.\n",
      "\u001b[32mPositive\u001b[0m (subj: 0.0 ): White Papers v. Brochures\n",
      "Brochures are sales documents intended to create interest and desire.\n",
      "\u001b[32mPositive\u001b[0m (subj: 0.0 ): White papers are pre-sales documents meant to inform and persuade.\n",
      "\u001b[31mNegative\u001b[0m (subj: 0.65 ): Brochures push emotional buttons like fear, greed, envy, and vanity.\n",
      "\u001b[32mPositive\u001b[0m (subj: 0.0 ): White papers appeal to logic.\n",
      "\u001b[32mPositive\u001b[0m (subj: 0.6 ): Brochures are colorful, flashy, and filled with promises about the product/service.\n",
      "\u001b[32mPositive\u001b[0m (subj: 0.05 ): White papers exist between technical manuals and brochures in design.\n",
      "\u001b[31mNegative\u001b[0m (subj: 0.25 ): Some audiences report being suspicious of flashy white papers.\n",
      "\u001b[31mNegative\u001b[0m (subj: 0.0 ): White papers should not be reformatted brochures.\n",
      "\u001b[32mPositive\u001b[0m (subj: 0.0 ): Audiences report feeling tricked if they read a white paper with the substance of an advertisement.\n",
      "\u001b[32mPositive\u001b[0m (subj: 0.0 ): This may damage your company's reputation.\n",
      "\u001b[31mNegative\u001b[0m (subj: 0.0 ): Brochures are a technique of advertising.\n",
      "\u001b[32mPositive\u001b[0m (subj: 0.0 ): While white papers are used in the sales cycle, they intend to position the issuing company as a trusted advisor to the audience, not as an advertisement agency for the issuing company.\n",
      "\u001b[32mPositive\u001b[0m (subj: 0.15000000000000002 ): White Papers v. Case Studies\n",
      "Case studies are extended testimonials on how a product or service has helped someone in the real world.\n",
      "\u001b[31mNegative\u001b[0m (subj: 0.025 ): White papers convey policy, present technical information, propose problems and offer solutions while sometimes offering testimonials; however, these testimonials are not the focus of the white paper.\n",
      "\u001b[32mPositive\u001b[0m (subj: 0.5 ): Case studies are general between 2-4 pages in length.\n",
      "\u001b[32mPositive\u001b[0m (subj: 0.25 ): White papers are generally 6-8 pages in length.\n",
      "\u001b[31mNegative\u001b[0m (subj: 1.0 ): Case studies are written in a journalistic style often with excessive quotes form the customer.\n",
      "\u001b[31mNegative\u001b[0m (subj: 0.3333333333333333 ): White papers are written in an academic style with excessive documentation, some of which may be quotes from customers.\n",
      "\u001b[32mPositive\u001b[0m (subj: 0.0 ): Case studies are often written in a problem/solution or Before/After format.\n",
      "\u001b[32mPositive\u001b[0m (subj: 0.0 ): For example, \"Before the Axon Scanomatic, our office was drowning in paper.\n",
      "\u001b[32mPositive\u001b[0m (subj: 0.0 ): But after we purchased the Scanomatic, we have become a paperless space!\"\n",
      "\u001b[31mNegative\u001b[0m (subj: 0.0 ): White papers may be written in a problem/solution format, but are never written in a before/after format.\n",
      "\u001b[32mPositive\u001b[0m (subj: 0.0 ): Case studies are used to close sales or reassure existing customers that the product is satisfactory.\n",
      "\u001b[32mPositive\u001b[0m (subj: 0.3333333333333333 ): White papers are generally used earlier in the sales cycle to inform an audience about a product, or persuade an audience to consider a product.\n",
      "\u001b[32mPositive\u001b[0m (subj: 0.0 ): There are times when white papers are used to close sales.\n",
      "\u001b[31mNegative\u001b[0m (subj: 0.125 ): White Papers v. E-books\n",
      "E-books can be almost identical to white papers, other than format.\n",
      "\u001b[31mNegative\u001b[0m (subj: 0.0 ): E-books can be of any length, about any topic, and can appear anytime in the sales cycle.\n",
      "\u001b[32mPositive\u001b[0m (subj: 0.0625 ): E-books can have the same goals as white papers.\n",
      "\u001b[32mPositive\u001b[0m (subj: 0.37222222222222223 ): E-books may offer benefits compared to white papers, such as:\n",
      "E-books may grasp and hold attention for young easily distracted audiences better than white papers.\n",
      "\u001b[31mNegative\u001b[0m (subj: 0.43333333333333335 ): E-Books may stand out in the crowd of white papers as fresh and exciting.\n",
      "\u001b[32mPositive\u001b[0m (subj: 0.15 ): White Papers v. Press Release\n",
      "Press Releases are short factual announcements.\n",
      "\u001b[31mNegative\u001b[0m (subj: 0.0 ): White papers are longer explorations of a topic.\n",
      "\u001b[32mPositive\u001b[0m (subj: 0.0 ): Press Releases are used to influence media gatekeepers.\n",
      "\u001b[32mPositive\u001b[0m (subj: 0.3333333333333333 ): White papers are used to influence potential customers however, white papers are sometimes released in press kits.\n",
      "\u001b[31mNegative\u001b[0m (subj: 0.225 ): Press Releases are usually governed by rules from the company's legal department.\n",
      "\u001b[32mPositive\u001b[0m (subj: 0.1 ): White papers have no legal limits.\n",
      "\u001b[32mPositive\u001b[0m (subj: 0.0 ): Drafting a White Paper\n",
      "After deciding a white paper is in fact what you need, you will need to begin drafting an outline.\n",
      "\u001b[32mPositive\u001b[0m (subj: 1.0 ): In an outline, identify your ideal audience, preferred page count, and over all scope.\n",
      "\u001b[32mPositive\u001b[0m (subj: 0.3444444444444444 ): Additionally, identify all subject matter experts and reviewers early, and set a dead line your team can reach.\n",
      "\u001b[31mNegative\u001b[0m (subj: 0.475 ): Generally, a well-researched white paper will take 4 to 6 weeks of intense effort by a team to complete.\n",
      "\u001b[31mNegative\u001b[0m (subj: 0.03333333333333333 ): While outlining your white paper, ask yourself the following questions:\n",
      "What is the purpose of the white paper?\n",
      "\u001b[32mPositive\u001b[0m (subj: 0.15 ): Your white paper could convey policy, present technical information, propose a problem/solution, and more.\n",
      "\u001b[31mNegative\u001b[0m (subj: 0.4 ): Be precise when determining what the take away from your white paper will be.\n",
      "\u001b[31mNegative\u001b[0m (subj: 0.0 ): When will this white paper be used in the sales cycle?\n",
      "\u001b[31mNegative\u001b[0m (subj: 0.43333333333333335 ): Generally, if your paper will be used early in the sales cycle, it should be high-level and general.\n",
      "\u001b[31mNegative\u001b[0m (subj: 0.2916666666666667 ): If it will be used later in the cycle, if should be detailed and specific.\n",
      "\u001b[32mPositive\u001b[0m (subj: 0.0 ): Who is my audience and what do they want?\n",
      "\u001b[32mPositive\u001b[0m (subj: 0.0 ): Additionally: what does the audience expect from your organization; what do they already know about the topic; what objections might they have; and, how do you expect them to use this white paper?\n",
      "\u001b[31mNegative\u001b[0m (subj: 0.625 ): Different readers have different goals:\n",
      "IT Managers: tolerate long papers with modest production value.\n",
      "\u001b[32mPositive\u001b[0m (subj: 0.0 ): Executives: want a polished product that sums up bottom line benefits in a page or two.\n",
      "\u001b[32mPositive\u001b[0m (subj: 0.5 ): Managers: Interested in streamlined workflow and labor savings.\n",
      "\u001b[32mPositive\u001b[0m (subj: 0.5 ): User Reps: Interested in ease-of-use, training, and support material that is detail oriented.\n",
      "\u001b[32mPositive\u001b[0m (subj: 0.08333333333333333 ): Mixed Audience/Committee: Consider multiple white papers.\n",
      "\u001b[31mNegative\u001b[0m (subj: 0.19444444444444442 ): Main Types of White Papers\n",
      "After answering the above questions for your project, consider the three main types of white papers and how they fit your goals.\n",
      "\u001b[31mNegative\u001b[0m (subj: 0.075 ): Backgrounders\n",
      "These white papers describe the technical features and/or benefits of a specific product or service.\n",
      "\u001b[31mNegative\u001b[0m (subj: 0.3 ): Backgrounders tend to be more technical.\n",
      "\u001b[32mPositive\u001b[0m (subj: 0.0 ): These white papers are meant to close sales.\n",
      "\u001b[32mPositive\u001b[0m (subj: 0.2333333333333333 ): They are often left behind after an initial client meeting, or used to support a product launch.\n",
      "\u001b[31mNegative\u001b[0m (subj: 0.25 ): Their audience tends to be prospects near the end of the buying cycle or analysts and channel partners invested in the technical aspects of your product/service.\n",
      "\u001b[32mPositive\u001b[0m (subj: 0.22666666666666666 ): Particularly, these white papers target IT managers, who read white papers to stay on top of trends, get information about products and vendors, compare products, help justify buying decisions, and develop a short list of qualified vendors for a product or service.\n",
      "\u001b[32mPositive\u001b[0m (subj: 0.55 ): Numbered Lists\n",
      "These white papers are light and lively roundups of key highlights about some issue, always involving lists.\n",
      "\u001b[31mNegative\u001b[0m (subj: 0.3 ): Numbered Lists tend to be more 'big picture'.\n",
      "\u001b[32mPositive\u001b[0m (subj: 0.0 ): These white papers are meant to demonstrate thought leadership in a field.\n",
      "\u001b[31mNegative\u001b[0m (subj: 0.45454545454545453 ): They are meant to prove forward thinking in the industry, convince existing customers to stay with the company, and persuade new customers to come join the company.\n",
      "\u001b[32mPositive\u001b[0m (subj: 1.0 ): Numbered Lists convert nicely to trade publications or articles.\n",
      "\u001b[32mPositive\u001b[0m (subj: 0.5 ): Their audience can be anyone interested in an issue.\n",
      "\u001b[31mNegative\u001b[0m (subj: 0.85 ): There is not necessarily a sales motive behind a Numbered List.\n",
      "\u001b[32mPositive\u001b[0m (subj: 0.18484848484848485 ): Problem/Solutions\n",
      "These white papers recommend new, improved solutions for a nagging business or technical problem.\n",
      "\u001b[31mNegative\u001b[0m (subj: 0.05 ): Problem/Solutions tend to be the middle ground between overview and technical manual.\n",
      "\u001b[32mPositive\u001b[0m (subj: 0.0 ): These white papers are meant to generate leads.\n",
      "\u001b[31mNegative\u001b[0m (subj: 0.4 ): Their audience tends to be prospects near the start of the buying cycle who are trying to research solutions to their problems.\n",
      "\u001b[32mPositive\u001b[0m (subj: 0.3456349206349206 ): Particularly, these white papers target executives, who read white papers to look for plain language explanations, outlining clear business benefits, backed up by convincing facts and arguments.\n",
      "\u001b[31mNegative\u001b[0m (subj: 0.1111111111111111 ): Additional Types of White Papers\n",
      "\n",
      "There may be situations where the three main types of white papers do not satisfy your needs.\n",
      "\u001b[31mNegative\u001b[0m (subj: 0.3416666666666667 ): There are many other types of white papers that combine the three main types in interesting ways.\n",
      "\u001b[32mPositive\u001b[0m (subj: 0.2875 ): Below are several of these less popular types, short descriptions, and numbers indicating which of the main types that specific type draws upon.\n",
      "\u001b[31mNegative\u001b[0m (subj: 0.5714285714285714 ): Business Benefits\n",
      "Shows how buyers will benefit from a certain offering; aimed at a non-technical audience.\n",
      "\u001b[32mPositive\u001b[0m (subj: 0.26666666666666666 ): (1, 2, 3)\n",
      "Competitive Review\n",
      "Shows the relative strengths and weaknesses of competing offerings, generally to position one vendor as the best choice or prospect.\n",
      "\u001b[32mPositive\u001b[0m (subj: 0.6 ): (1, 2)\n",
      "Evaluator's Guide\n",
      "Explains the features, functions, interfaces, and benefits of an offering to a prospect fairly advanced in the buying process.\n",
      "\u001b[31mNegative\u001b[0m (subj: 0.45714285714285713 ): (1)\n",
      "Executive Briefing\n",
      "Provides a short, high-level summary of a certain market of problem in terms that a top executive can appreciate.\n",
      "\u001b[32mPositive\u001b[0m (subj: 0.19999999999999998 ): (3)\n",
      "Hybrid Technical/Business Paper\n",
      "Combines both technical details and business benefits for a mixed audience, usually a selection committee.\n",
      "\u001b[32mPositive\u001b[0m (subj: 0.5714285714285714 ): (1, 2, 3)\n",
      "Market Overview\n",
      "Provides an overview of a certain market niche in terms favorable to a certain vendor.\n",
      "\u001b[32mPositive\u001b[0m (subj: 0.5714285714285714 ): (3)\n",
      "Position Paper:\n",
      "Argues for a certain approach to solving a problem; like an opinion piece.\n",
      "\u001b[32mPositive\u001b[0m (subj: 0.0 ): (3)\n",
      "Product Briefing\n",
      "Explains the high-level features and functions of an offering; often for journalists and analysts at the launch of a product.\n",
      "\u001b[31mNegative\u001b[0m (subj: 0.4857142857142857 ): (1)\n",
      "Special Report\n",
      "Almost any type of white paper but effective when explicitly aimed at people in a certain role, i.e.\n",
      "\u001b[32mPositive\u001b[0m (subj: 0.5714285714285714 ): \"Special Report for Supply Chain Managers\".\n",
      "\u001b[32mPositive\u001b[0m (subj: 0.4000000000000001 ): (1, 2, 3)\n",
      "Technical Backgrounder\n",
      "Explains a unique, unfamiliar, or misunderstood offering to a technical audience.\n",
      "\u001b[31mNegative\u001b[0m (subj: 0.08333333333333333 ): (1)\n",
      "\n",
      "Outline of a Standard White Paper\n",
      "Front Matter Elements\n",
      "Title Page\n",
      "The title page should include a brief but descriptive title for the white paper, the authors' names, the institutional affiliation, and a running header.\n",
      "\u001b[31mNegative\u001b[0m (subj: 0.16666666666666666 ): Table of Contents\n",
      "Found at the beginning of a work, the table of contents is a list of the white paper's section titles and/or brief descriptions with their complementary page numbers.\n",
      "\u001b[31mNegative\u001b[0m (subj: 0.3 ): The inclusion of a table of contents will assist readers in following the road map of the paper, or assist them in skipping to the sections that interest them most.\n",
      "\u001b[32mPositive\u001b[0m (subj: 0.5 ): This is especially important if the white paper is longer than six pages.\n",
      "\u001b[31mNegative\u001b[0m (subj: 0.1875 ): List of Figures\n",
      "Any diagram, drawing, graph, chart, map, photograph, or other type of illustration is considered a figure in a white paper.\n",
      "\u001b[31mNegative\u001b[0m (subj: 0.3 ): These figures should be given a label and a short but descriptive title.\n",
      "\u001b[31mNegative\u001b[0m (subj: 0.0 ): A label would be Figure 1, Figure 2, etc.\n",
      "\u001b[31mNegative\u001b[0m (subj: 0.0 ): A descriptive title, or caption, could be, 'Graph of Profits in Millions of Dollars Against Time in Quarters'.\n",
      "\u001b[31mNegative\u001b[0m (subj: 0.0 ): These figures, represented by their labels and captions should be found in an exhaustive list at the beginning of the white paper, along with their accompanying page numbers.\n",
      "\u001b[31mNegative\u001b[0m (subj: 0.2222222222222222 ): Abstract\n",
      "Abstracts are brief paragraphs that outline the purpose of the white paper, briefly provide background information, describe the problem, and propose a solution.\n",
      "\u001b[31mNegative\u001b[0m (subj: 0.7083333333333334 ): The reader should immediately be able to tell the most important information from the abstract.\n",
      "\u001b[31mNegative\u001b[0m (subj: 1.0 ): This is important because the abstract determines whether someone reads the entirety of the paper.\n",
      "\u001b[31mNegative\u001b[0m (subj: 0.5277777777777778 ): Main Elements\n",
      "Introduction\n",
      "Introductions are a more detailed picture of the purpose of the paper.\n",
      "\u001b[32mPositive\u001b[0m (subj: 0.0 ): In the introduction, you should address why this topic is a problem and why the audience should care about the problem.\n",
      "\u001b[31mNegative\u001b[0m (subj: 0.3333333333333333 ): The introduction should provide a brief road map for the rest of the paper.\n",
      "\u001b[31mNegative\u001b[0m (subj: 0.0 ): In the introduction there should be a thesis statement: in one or two sentences, the problem and the proposed solution should be declared.\n",
      "\u001b[32mPositive\u001b[0m (subj: 0.19166666666666665 ): Problem Statement\n",
      "The problem statement should clearly outline to readers what problem this white paper is addressing, from the reader's perspective.\n",
      "\u001b[31mNegative\u001b[0m (subj: 0.8888888888888888 ): Be sure not to pose problems for which you cannot provide solutions.\n",
      "\u001b[32mPositive\u001b[0m (subj: 0.0 ): Furthermore, this section should persuade a reader that the problem deserves their attention and persuade them to keep reading the white paper.\n",
      "\u001b[32mPositive\u001b[0m (subj: 0.5 ): Provide enough general background on the issue to help the reader make their decision based on an understanding of the facts.\n",
      "\u001b[32mPositive\u001b[0m (subj: 0.0 ): Here, you will begin to show the reader you are an expert in the field because of your command of the issue.\n",
      "\u001b[32mPositive\u001b[0m (subj: 0.26666666666666666 ): if you can coherently address the problems that your intended audience wants to solve, they will read your white paper for a solution.\n",
      "\u001b[31mNegative\u001b[0m (subj: 0.2111111111111111 ): This is the first real meaty section of the white paper.\n",
      "\u001b[32mPositive\u001b[0m (subj: 1.0 ): Solution\n",
      "With the problem statement in mind, describe all the possible solutions for the reader.\n",
      "\u001b[32mPositive\u001b[0m (subj: 0.0 ): Also include how these solutions should be implemented.\n",
      "\u001b[32mPositive\u001b[0m (subj: 0.3 ): Anticipate reader objections and address them in this section until you have guided the reader to the conclusion best solution.\n",
      "\u001b[31mNegative\u001b[0m (subj: 0.0 ): Visuals and examples may be helpful in this section.\n",
      "\u001b[31mNegative\u001b[0m (subj: 0.0 ): Conclusion\n",
      "After the solution to the problem statement, wrap up your white paper with a summary.\n",
      "\u001b[31mNegative\u001b[0m (subj: 0.22916666666666666 ): Briefly indicate the future of this topic.\n",
      "\u001b[32mPositive\u001b[0m (subj: 0.5 ): Include information about TCube's products and services if appropriate.\n",
      "\u001b[31mNegative\u001b[0m (subj: 0.24166666666666667 ): This advertisement should come last because the reader will have already read the whole white paper and will not be turned off by blatant marketing.\n",
      "\u001b[31mNegative\u001b[0m (subj: 0.1 ): End by restating your thesis/problem statement with the recommended solution immediately following.\n",
      "\u001b[31mNegative\u001b[0m (subj: 0.3611111111111111 ): Back Matter Elements\n",
      "Appendix\n",
      "Appendices include detailed information not included in the main text for fear of distraction.\n",
      "\u001b[32mPositive\u001b[0m (subj: 0.375 ): Appendices may include mathematical proofs, lists of words, code blocks, a detailed description of an apparatus used in research, etc.\n",
      "\u001b[32mPositive\u001b[0m (subj: 0.5125 ): A paper may have more than one appendices because usually each distinct item has its own appendix.\n",
      "\u001b[32mPositive\u001b[0m (subj: 1.0 ): If your paper only has one appendix, label it, without quotations, 'Appendix'.\n",
      "\u001b[32mPositive\u001b[0m (subj: 0.5 ): If your paper has more than one appendix, label them, without quotations, 'Appendix A', 'Appendix B', and so on.\n",
      "\u001b[32mPositive\u001b[0m (subj: 0.0 ): In the paper, you should refer to the appendices by their labels.\n",
      "\u001b[32mPositive\u001b[0m (subj: 0.0 ): References\n",
      "White papers incorporate thorough research.\n",
      "\u001b[31mNegative\u001b[0m (subj: 0.6333333333333333 ): Thorough research will provide an authoritative air to your project, especially if your company is not well known in the white paper community.\n",
      "\u001b[31mNegative\u001b[0m (subj: 0.0 ): That research will be evidenced by a robust reference section.\n",
      "\u001b[32mPositive\u001b[0m (subj: 0.5 ): Each reference should provide enough detail for an interested reader to find that source if they wish.\n",
      "\u001b[31mNegative\u001b[0m (subj: 0.125 ): The references must be consistent within the white paper, and should be consistent across all white papers from the company.\n",
      "\u001b[31mNegative\u001b[0m (subj: 0.0 ): For TCube Solutions, our references will be in endnotes.\n",
      "\u001b[32mPositive\u001b[0m (subj: 0.55 ): General Writing Tips\n",
      "Avoid Inflated Language\n",
      "Use concise language.\n",
      "\u001b[32mPositive\u001b[0m (subj: 0.4 ): Avoid flowery language to sound smarter.\n",
      "\u001b[31mNegative\u001b[0m (subj: 0.0 ): It is a waste of space.\n",
      "\u001b[32mPositive\u001b[0m (subj: 0.0 ): EX.\n",
      "\u001b[31mNegative\u001b[0m (subj: 0.3833333333333333 ): Instead of 'Thus', use 'So'\n",
      "Avoid Jargon, Idioms, and Slang\n",
      "Use clear language.\n",
      "\u001b[32mPositive\u001b[0m (subj: 0.1 ): Your meaning may be lost on an audience when you use technical or cultural terms.\n",
      "\u001b[32mPositive\u001b[0m (subj: 0.0 ): Ex.\n",
      "\u001b[31mNegative\u001b[0m (subj: 0.5 ): Instead of 'Give you the green light on that', use 'Give you permission'\n",
      "Avoid we-we-ism\n",
      "Emphasize the reader's interests over those of the issuing body.\n",
      "\u001b[32mPositive\u001b[0m (subj: 0.0 ): Ex.\n",
      "\u001b[32mPositive\u001b[0m (subj: 0.3359848484848485 ): Instead of 'This white paper introduces ABC Company's new freight service', use 'This white paper discusses how to choose a freight service company that will best fit your needs'\n",
      "Default to writing in the active voice\n",
      "Use the active voice when you want to emphasize the subject of the sentence, and passive voice when you are emphasizing the object.\n",
      "\u001b[32mPositive\u001b[0m (subj: 0.0 ): Ex.\n",
      "\u001b[31mNegative\u001b[0m (subj: 0.6 ): Instead of passive, use active.\n",
      "\u001b[31mNegative\u001b[0m (subj: 0.6 ): Passive: 'Technology X is the recommended purchase'\n",
      "Active: 'We recommend purchasing technology X'\n",
      "Use Gender Neutral Language\n",
      "To appeal to the largest audience, be gender neutral in your language.\n",
      "\u001b[31mNegative\u001b[0m (subj: 0.8 ): Also, attempt to be free of racism, ableism, and homophobia.\n",
      "\u001b[32mPositive\u001b[0m (subj: 0.0 ): Ex.\n",
      "\u001b[31mNegative\u001b[0m (subj: 0.4 ): Instead of 'Stewardess', use 'Flight Attendant'\n",
      "Style Tips\n",
      "Style Guide\n",
      "The design of the document may be predetermined by the style guide of TCube Solutions.\n",
      "\u001b[31mNegative\u001b[0m (subj: 0.0 ): In the event of contradictory information between this guide and TCube's style guide, go with the style guide.\n",
      "\u001b[32mPositive\u001b[0m (subj: 0.8333333333333334 ): Use Headers and Page Numbers\n",
      "To allow for easy navigation, add running headers and page numbers to your document.\n",
      "\u001b[32mPositive\u001b[0m (subj: 0.16666666666666666 ): Allow for White Space\n",
      "White papers are generally skimmed and skipped.\n",
      "\u001b[32mPositive\u001b[0m (subj: 0.0 ): White space allows for maximum readability.\n",
      "\u001b[32mPositive\u001b[0m (subj: 0.45 ): Run text no more than 60 characters wide to make reading easier.\n",
      "\u001b[31mNegative\u001b[0m (subj: 0.0 ): Use Informative Visuals\n",
      "Visuals, figures, and illustrations should not be used for decorative purposes alone.\n",
      "\u001b[31mNegative\u001b[0m (subj: 0.45 ): Visuals should include relevant information to help the reader understand the purpose of the white paper.\n",
      "\u001b[31mNegative\u001b[0m (subj: 0.8 ): Bulleted Text\n",
      "There should only be a minimal amount of text after each bullet.\n",
      "\u001b[31mNegative\u001b[0m (subj: 0.5 ): Avoid lists of more than 20 bullets.\n",
      "\u001b[32mPositive\u001b[0m (subj: 0.36944444444444446 ): Text Headings\n",
      "Write clear, specific, active headings that describe what will follow.\n",
      "\u001b[31mNegative\u001b[0m (subj: 0.3833333333333333 ): Use 2 sets of headings, one big and one bold.\n",
      "\u001b[31mNegative\u001b[0m (subj: 1.0 ): Quotes and Side Bars\n",
      "Pull quotes up to 20 words out of the text to highlight a key point.\n",
      "\u001b[31mNegative\u001b[0m (subj: 0.3333333333333333 ): Pull out nonessential side issues or lists that may detract from the main text and put them in a side bars.\n",
      "\u001b[31mNegative\u001b[0m (subj: 0.13333333333333333 ): Publishing the White Paper\n",
      "After the long process of writing and editing your white paper, your work is not done.\n",
      "\u001b[32mPositive\u001b[0m (subj: 0.2 ): Treat your white paper as a mini-product launch to reach a wide audience.\n",
      "\u001b[31mNegative\u001b[0m (subj: 0.0 ): Publicize just like any product to draw attention to your thought leadership.\n",
      "\u001b[32mPositive\u001b[0m (subj: 0.39999999999999997 ): If you fail to push your white paper, it will likely be covered in an avalanche of similar documents on the Internet in a short time.\n",
      "---------------------------------\n",
      "This Guide has 200 sentences.\n",
      "Positive Sentences: 107\n",
      "Negative Sentences: 93\n",
      "Subjective Index: 0.2645866161616162\n"
     ]
    }
   ],
   "source": [
    "from termcolor import colored\n",
    "pos_pot=0\n",
    "neg_pot=0\n",
    "sub_pot=0\n",
    "with open('comp_white_paper_guide.txt','r') as file:\n",
    "    guide=TextBlob(file.read(),classifier=cl)\n",
    "    for line in guide.sentences:\n",
    "        classi=line.classify()\n",
    "        subj_index=line.sentiment.subjectivity\n",
    "        sub_pot+=subj_index\n",
    "        if classi==\"pos\":\n",
    "            pos_pot+=1\n",
    "            print(colored('Positive', 'green'),\"(subj:\",subj_index,\"):\",line)\n",
    "        else:\n",
    "            neg_pot+=1\n",
    "            print(colored('Negative', 'red'),\"(subj:\",subj_index,\"):\",line)\n",
    "    \n",
    "    print(\"---------------------------------\")\n",
    "    print(\"This Guide has\",pos_pot+neg_pot,\"sentences.\")\n",
    "    print(\"Positive Sentences:\",pos_pot)\n",
    "    print(\"Negative Sentences:\",neg_pot)\n",
    "    print(\"Subjective Index:\",sub_pot/(pos_pot+neg_pot))\n",
    "        "
   ]
  },
  {
   "cell_type": "code",
   "execution_count": null,
   "metadata": {
    "collapsed": true
   },
   "outputs": [],
   "source": []
  }
 ],
 "metadata": {
  "kernelspec": {
   "display_name": "Python 3",
   "language": "python",
   "name": "python3"
  },
  "language_info": {
   "codemirror_mode": {
    "name": "ipython",
    "version": 3
   },
   "file_extension": ".py",
   "mimetype": "text/x-python",
   "name": "python",
   "nbconvert_exporter": "python",
   "pygments_lexer": "ipython3",
   "version": "3.4.3"
  }
 },
 "nbformat": 4,
 "nbformat_minor": 0
}
