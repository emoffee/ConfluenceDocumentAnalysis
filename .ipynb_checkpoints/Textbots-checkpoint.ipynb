{
 "cells": [
  {
   "cell_type": "code",
   "execution_count": 14,
   "metadata": {
    "collapsed": false
   },
   "outputs": [],
   "source": [
    "from textblob import TextBlob\n",
    "sentext=\"Python is an amazingly high-level, general-purpose programming language. What do you think?\"\n",
    "wiki=TextBlob(sentext)"
   ]
  },
  {
   "cell_type": "code",
   "execution_count": 27,
   "metadata": {
    "collapsed": false
   },
   "outputs": [
    {
     "name": "stdout",
     "output_type": "stream",
     "text": [
      "tags:\n",
      " [('Python', 'NNP'), ('is', 'VBZ'), ('an', 'DT'), ('amazingly', 'RB'), ('high-level', 'JJ'), ('general-purpose', 'JJ'), ('programming', 'NN'), ('language', 'NN'), ('What', 'WP'), ('do', 'VBP'), ('you', 'PRP'), ('think', 'VB')]\n",
      "Noun phrases:\n",
      " ['python']\n",
      "Words:\n",
      " ['Python', 'is', 'an', 'amazingly', 'high-level', 'general-purpose', 'programming', 'language', 'What', 'do', 'you', 'think']\n",
      "Sentences:\n",
      " [Sentence(\"Python is an amazingly high-level, general-purpose programming language.\"), Sentence(\"What do you think?\")]\n",
      "Sentiment:\n",
      " Sentiment(polarity=0.6000000000000001, subjectivity=0.9)\n"
     ]
    }
   ],
   "source": [
    "print(\"tags:\\n\",wiki.tags)\n",
    "print(\"Noun phrases:\\n\",wiki.noun_phrases)\n",
    "print(\"Words:\\n\",wiki.words)\n",
    "print(\"Sentences:\\n\",wiki.sentences)\n",
    "print(\"Sentiment:\\n\",wiki.sentiment)"
   ]
  },
  {
   "cell_type": "code",
   "execution_count": 22,
   "metadata": {
    "collapsed": false
   },
   "outputs": [
    {
     "name": "stdout",
     "output_type": "stream",
     "text": [
      "[Sentence(\"Python is an amazingly high-level, general-purpose programming language.\"), Sentence(\"What do you think?\")]\n",
      "Sentiment(polarity=0.6000000000000001, subjectivity=0.9)\n",
      "Sentiment(polarity=0.0, subjectivity=0.0)\n"
     ]
    }
   ],
   "source": [
    "print(wiki.sentences)\n",
    "for sentence in wiki.sentences:\n",
    "    print(sentence.sentiment)"
   ]
  },
  {
   "cell_type": "code",
   "execution_count": null,
   "metadata": {
    "collapsed": true
   },
   "outputs": [],
   "source": []
  }
 ],
 "metadata": {
  "kernelspec": {
   "display_name": "Python 3",
   "language": "python",
   "name": "python3"
  },
  "language_info": {
   "codemirror_mode": {
    "name": "ipython",
    "version": 3
   },
   "file_extension": ".py",
   "mimetype": "text/x-python",
   "name": "python",
   "nbconvert_exporter": "python",
   "pygments_lexer": "ipython3",
   "version": "3.4.3"
  }
 },
 "nbformat": 4,
 "nbformat_minor": 0
}
